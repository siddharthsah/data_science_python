{
 "cells": [
  {
   "cell_type": "markdown",
   "metadata": {},
   "source": [
    "<img src=\"http://imgur.com/1ZcRyrc.png\" style=\"float: left; margin: 20px; height: 55px\">\n",
    "\n",
    "# Project 3: Linear Regression and KNN - Train/Test Split\n",
    "\n",
    "---"
   ]
  },
  {
   "cell_type": "markdown",
   "metadata": {},
   "source": [
    "# Introduction\n",
    "\n",
    "To evaluate how our models would perform on new data, we split our data into a training set and a test set, train only on the training set, and evaluate on the test set. In $k$-fold cross validation we repeat this process $k$ times, using a different subset of our data as the test set each time.\n",
    "\n",
    "We use this process to compare multiple models on the same data set. Those models could be variations on a single type (e.g. linear regression models with and without a particular feature), or they could be of completely different types."
   ]
  },
  {
   "cell_type": "markdown",
   "metadata": {},
   "source": [
    "Recall that k-fold cross-validation creates a hold portion of your data set for each iteration of training and validating:\n",
    "\n",
    "![](http://i.imgur.com/0PFrPXJ.png)"
   ]
  },
  {
   "cell_type": "markdown",
   "metadata": {},
   "source": [
    "## Linear Regression Practice\n",
    "\n",
    "In this given task, you will be asked to model the median home price of various houses across U.S. Census tracts in the city of Boston."
   ]
  },
  {
   "cell_type": "code",
   "execution_count": 1,
   "metadata": {},
   "outputs": [],
   "source": [
    "import matplotlib.pyplot as plt\n",
    "\n",
    "% matplotlib inline"
   ]
  },
  {
   "cell_type": "code",
   "execution_count": 2,
   "metadata": {},
   "outputs": [
    {
     "name": "stdout",
     "output_type": "stream",
     "text": [
      "Boston House Prices dataset\n",
      "===========================\n",
      "\n",
      "Notes\n",
      "------\n",
      "Data Set Characteristics:  \n",
      "\n",
      "    :Number of Instances: 506 \n",
      "\n",
      "    :Number of Attributes: 13 numeric/categorical predictive\n",
      "    \n",
      "    :Median Value (attribute 14) is usually the target\n",
      "\n",
      "    :Attribute Information (in order):\n",
      "        - CRIM     per capita crime rate by town\n",
      "        - ZN       proportion of residential land zoned for lots over 25,000 sq.ft.\n",
      "        - INDUS    proportion of non-retail business acres per town\n",
      "        - CHAS     Charles River dummy variable (= 1 if tract bounds river; 0 otherwise)\n",
      "        - NOX      nitric oxides concentration (parts per 10 million)\n",
      "        - RM       average number of rooms per dwelling\n",
      "        - AGE      proportion of owner-occupied units built prior to 1940\n",
      "        - DIS      weighted distances to five Boston employment centres\n",
      "        - RAD      index of accessibility to radial highways\n",
      "        - TAX      full-value property-tax rate per $10,000\n",
      "        - PTRATIO  pupil-teacher ratio by town\n",
      "        - B        1000(Bk - 0.63)^2 where Bk is the proportion of blacks by town\n",
      "        - LSTAT    % lower status of the population\n",
      "        - MEDV     Median value of owner-occupied homes in $1000's\n",
      "\n",
      "    :Missing Attribute Values: None\n",
      "\n",
      "    :Creator: Harrison, D. and Rubinfeld, D.L.\n",
      "\n",
      "This is a copy of UCI ML housing dataset.\n",
      "http://archive.ics.uci.edu/ml/datasets/Housing\n",
      "\n",
      "\n",
      "This dataset was taken from the StatLib library which is maintained at Carnegie Mellon University.\n",
      "\n",
      "The Boston house-price data of Harrison, D. and Rubinfeld, D.L. 'Hedonic\n",
      "prices and the demand for clean air', J. Environ. Economics & Management,\n",
      "vol.5, 81-102, 1978.   Used in Belsley, Kuh & Welsch, 'Regression diagnostics\n",
      "...', Wiley, 1980.   N.B. Various transformations are used in the table on\n",
      "pages 244-261 of the latter.\n",
      "\n",
      "The Boston house-price data has been used in many machine learning papers that address regression\n",
      "problems.   \n",
      "     \n",
      "**References**\n",
      "\n",
      "   - Belsley, Kuh & Welsch, 'Regression diagnostics: Identifying Influential Data and Sources of Collinearity', Wiley, 1980. 244-261.\n",
      "   - Quinlan,R. (1993). Combining Instance-Based and Model-Based Learning. In Proceedings on the Tenth International Conference of Machine Learning, 236-243, University of Massachusetts, Amherst. Morgan Kaufmann.\n",
      "   - many more! (see http://archive.ics.uci.edu/ml/datasets/Housing)\n",
      "\n"
     ]
    }
   ],
   "source": [
    "import pandas as pd\n",
    "import numpy as np\n",
    "from sklearn.datasets import load_boston\n",
    "\n",
    "boston = load_boston()\n",
    "\n",
    "X = pd.DataFrame(boston.data,\n",
    "                 columns=boston.feature_names)\n",
    "y = pd.DataFrame(boston.target,\n",
    "                 columns=['MEDV'])\n",
    "\n",
    "print(boston['DESCR'])"
   ]
  },
  {
   "cell_type": "markdown",
   "metadata": {},
   "source": [
    "- Clean Up Data and Perform Exporatory Data Analysis"
   ]
  },
  {
   "cell_type": "markdown",
   "metadata": {},
   "source": [
    "Boston data is from scikit-learn, so it ought to be pretty clean, but we should always perform exploratory data analysis."
   ]
  },
  {
   "cell_type": "markdown",
   "metadata": {},
   "source": [
    "**Items to include:**\n",
    "\n",
    "- Data shape\n",
    "- Data types\n",
    "- Count of null values by column\n",
    "- Basic summary statistics\n",
    "- Number of unique values for each column\n",
    "- Plot of the distribution of each column (e.g. histogram, bar plot, or box plot)\n",
    "- Scatterplot of each column with median price"
   ]
  },
  {
   "cell_type": "code",
   "execution_count": 3,
   "metadata": {},
   "outputs": [
    {
     "name": "stdout",
     "output_type": "stream",
     "text": [
      "(506, 13)\n",
      "(506, 1)\n"
     ]
    }
   ],
   "source": [
    "#shape of X and y where X is the data set and y is original median price for houses.\n",
    "print(X.shape)\n",
    "\n",
    "print(y.shape)"
   ]
  },
  {
   "cell_type": "code",
   "execution_count": 4,
   "metadata": {},
   "outputs": [
    {
     "name": "stdout",
     "output_type": "stream",
     "text": [
      "CRIM       float64\n",
      "ZN         float64\n",
      "INDUS      float64\n",
      "CHAS       float64\n",
      "NOX        float64\n",
      "RM         float64\n",
      "AGE        float64\n",
      "DIS        float64\n",
      "RAD        float64\n",
      "TAX        float64\n",
      "PTRATIO    float64\n",
      "B          float64\n",
      "LSTAT      float64\n",
      "dtype: object\n",
      "MEDV    float64\n",
      "dtype: object\n"
     ]
    }
   ],
   "source": [
    "#data types for the dataset\n",
    "print(X.dtypes)\n",
    "\n",
    "print(y.dtypes)"
   ]
  },
  {
   "cell_type": "code",
   "execution_count": 5,
   "metadata": {},
   "outputs": [
    {
     "name": "stdout",
     "output_type": "stream",
     "text": [
      "CRIM       0\n",
      "ZN         0\n",
      "INDUS      0\n",
      "CHAS       0\n",
      "NOX        0\n",
      "RM         0\n",
      "AGE        0\n",
      "DIS        0\n",
      "RAD        0\n",
      "TAX        0\n",
      "PTRATIO    0\n",
      "B          0\n",
      "LSTAT      0\n",
      "dtype: int64\n",
      "MEDV    0\n",
      "dtype: int64\n"
     ]
    }
   ],
   "source": [
    "#below are the count of null values in each of X and y dataset\n",
    "print(X.isnull().sum())\n",
    "print(y.isnull().sum())"
   ]
  },
  {
   "cell_type": "code",
   "execution_count": 6,
   "metadata": {},
   "outputs": [
    {
     "name": "stdout",
     "output_type": "stream",
     "text": [
      "             CRIM          ZN       INDUS        CHAS         NOX          RM  \\\n",
      "count  506.000000  506.000000  506.000000  506.000000  506.000000  506.000000   \n",
      "mean     3.593761   11.363636   11.136779    0.069170    0.554695    6.284634   \n",
      "std      8.596783   23.322453    6.860353    0.253994    0.115878    0.702617   \n",
      "min      0.006320    0.000000    0.460000    0.000000    0.385000    3.561000   \n",
      "25%      0.082045    0.000000    5.190000    0.000000    0.449000    5.885500   \n",
      "50%      0.256510    0.000000    9.690000    0.000000    0.538000    6.208500   \n",
      "75%      3.647423   12.500000   18.100000    0.000000    0.624000    6.623500   \n",
      "max     88.976200  100.000000   27.740000    1.000000    0.871000    8.780000   \n",
      "\n",
      "              AGE         DIS         RAD         TAX     PTRATIO           B  \\\n",
      "count  506.000000  506.000000  506.000000  506.000000  506.000000  506.000000   \n",
      "mean    68.574901    3.795043    9.549407  408.237154   18.455534  356.674032   \n",
      "std     28.148861    2.105710    8.707259  168.537116    2.164946   91.294864   \n",
      "min      2.900000    1.129600    1.000000  187.000000   12.600000    0.320000   \n",
      "25%     45.025000    2.100175    4.000000  279.000000   17.400000  375.377500   \n",
      "50%     77.500000    3.207450    5.000000  330.000000   19.050000  391.440000   \n",
      "75%     94.075000    5.188425   24.000000  666.000000   20.200000  396.225000   \n",
      "max    100.000000   12.126500   24.000000  711.000000   22.000000  396.900000   \n",
      "\n",
      "            LSTAT  \n",
      "count  506.000000  \n",
      "mean    12.653063  \n",
      "std      7.141062  \n",
      "min      1.730000  \n",
      "25%      6.950000  \n",
      "50%     11.360000  \n",
      "75%     16.955000  \n",
      "max     37.970000  \n",
      "             MEDV\n",
      "count  506.000000\n",
      "mean    22.532806\n",
      "std      9.197104\n",
      "min      5.000000\n",
      "25%     17.025000\n",
      "50%     21.200000\n",
      "75%     25.000000\n",
      "max     50.000000\n"
     ]
    }
   ],
   "source": [
    "# below are the basic summary stats for all the columns for X and y\n",
    "print(X.describe())\n",
    "\n",
    "print(y.describe())"
   ]
  },
  {
   "cell_type": "code",
   "execution_count": 7,
   "metadata": {},
   "outputs": [
    {
     "name": "stdout",
     "output_type": "stream",
     "text": [
      "CRIM       504\n",
      "ZN          26\n",
      "INDUS       76\n",
      "CHAS         2\n",
      "NOX         81\n",
      "RM         446\n",
      "AGE        356\n",
      "DIS        412\n",
      "RAD          9\n",
      "TAX         66\n",
      "PTRATIO     46\n",
      "B          357\n",
      "LSTAT      455\n",
      "dtype: int64\n",
      "MEDV    229\n",
      "dtype: int64\n"
     ]
    }
   ],
   "source": [
    "# here are the number of unique values for each column\n",
    "print(X.nunique())\n",
    "print(y.nunique())"
   ]
  },
  {
   "cell_type": "code",
   "execution_count": 8,
   "metadata": {},
   "outputs": [
    {
     "data": {
      "text/plain": [
       "<matplotlib.axes._subplots.AxesSubplot at 0x7fc0f64cae48>"
      ]
     },
     "execution_count": 8,
     "metadata": {},
     "output_type": "execute_result"
    },
    {
     "data": {
      "image/png": "[encoded data removed]",
      "text/plain": [
       "<Figure size 1152x864 with 1 Axes>"
      ]
     },
     "metadata": {},
     "output_type": "display_data"
    }
   ],
   "source": [
    "# Plot of the distribution of each column (e.g. histogram, bar plot, or box plot)\n",
    "boston_data = pd.concat([X, y], axis=1)\n",
    "feature = ['CRIM', 'ZN', 'INDUS','CHAS', 'NOX', 'RM', 'AGE', 'DIS', 'RAD', 'TAX', 'PTRATIO', 'B', 'LSTAT', 'MEDV']\n",
    "\n",
    "#boston_data.boxplot(column ='PRATIO', figsize=(10, 8))\n",
    "boston_data.boxplot(column=['CRIM', 'ZN', 'INDUS','CHAS', 'NOX', 'RM', 'AGE', 'DIS', 'RAD', 'TAX', 'PTRATIO', 'B', 'LSTAT', 'MEDV'], figsize=(16, 12))\n"
   ]
  },
  {
   "cell_type": "code",
   "execution_count": 9,
   "metadata": {},
   "outputs": [
    {
     "data": {
      "image/png": "[encoded data removed]",
      "text/plain": [
       "<Figure size 432x288 with 1 Axes>"
      ]
     },
     "metadata": {},
     "output_type": "display_data"
    },
    {
     "data": {
      "image/png": "[encoded data removed]",
      "text/plain": [
       "<Figure size 432x288 with 1 Axes>"
      ]
     },
     "metadata": {},
     "output_type": "display_data"
    },
    {
     "data": {
      "image/png": "[encoded data removed]",
      "text/plain": [
       "<Figure size 432x288 with 1 Axes>"
      ]
     },
     "metadata": {},
     "output_type": "display_data"
    },
    {
     "data": {
      "image/png": "[encoded data removed]",
      "text/plain": [
       "<Figure size 432x288 with 1 Axes>"
      ]
     },
     "metadata": {},
     "output_type": "display_data"
    },
    {
     "data": {
      "image/png": "[encoded data removed]",
      "text/plain": [
       "<Figure size 432x288 with 1 Axes>"
      ]
     },
     "metadata": {},
     "output_type": "display_data"
    },
    {
     "data": {
      "image/png": "[encoded data removed]",
      "text/plain": [
       "<Figure size 432x288 with 1 Axes>"
      ]
     },
     "metadata": {},
     "output_type": "display_data"
    },
    {
     "data": {
      "image/png": "[encoded data removed]",
      "text/plain": [
       "<Figure size 432x288 with 1 Axes>"
      ]
     },
     "metadata": {},
     "output_type": "display_data"
    },
    {
     "data": {
      "image/png": "[encoded data removed]",
      "text/plain": [
       "<Figure size 432x288 with 1 Axes>"
      ]
     },
     "metadata": {},
     "output_type": "display_data"
    },
    {
     "data": {
      "image/png": "[encoded data removed]",
      "text/plain": [
       "<Figure size 432x288 with 1 Axes>"
      ]
     },
     "metadata": {},
     "output_type": "display_data"
    },
    {
     "data": {
      "image/png": "[encoded data removed]",
      "text/plain": [
       "<Figure size 432x288 with 1 Axes>"
      ]
     },
     "metadata": {},
     "output_type": "display_data"
    },
    {
     "data": {
      "image/png": "[encoded data removed]",
      "text/plain": [
       "<Figure size 432x288 with 1 Axes>"
      ]
     },
     "metadata": {},
     "output_type": "display_data"
    },
    {
     "data": {
      "image/png": "[encoded data removed]",
      "text/plain": [
       "<Figure size 432x288 with 1 Axes>"
      ]
     },
     "metadata": {},
     "output_type": "display_data"
    },
    {
     "data": {
      "image/png": "[encoded data removed]",
      "text/plain": [
       "<Figure size 432x288 with 1 Axes>"
      ]
     },
     "metadata": {},
     "output_type": "display_data"
    }
   ],
   "source": [
    "#Scatterplot of each column with median price\n",
    "y = boston_data.loc[:, 'MEDV']\n",
    "feature = ['CRIM', 'ZN', 'INDUS','CHAS', 'NOX', 'RM', 'AGE', 'DIS', 'RAD', 'TAX', 'PTRATIO', 'B', 'LSTAT']\n",
    "for i in feature:\n",
    "    x = boston_data.loc[:, i]\n",
    "    fig, ax = plt.subplots()\n",
    "    ax.scatter(x, y)\n",
    "    ax.set_title(i)\n",
    "\n",
    "\n"
   ]
  },
  {
   "cell_type": "markdown",
   "metadata": {},
   "source": [
    "- Get the MSE of a null model that simply predicts the mean value of MEDV. (You could do a train/test split here, but it won't make much difference for such a simple model.)"
   ]
  },
  {
   "cell_type": "code",
   "execution_count": 10,
   "metadata": {},
   "outputs": [
    {
     "name": "stdout",
     "output_type": "stream",
     "text": [
      "2115.3289995156956\n"
     ]
    }
   ],
   "source": [
    "from sklearn import metrics\n",
    "\n",
    "null_pred = np.zeros(len(y)) - np.mean(y)\n",
    "null_mse = metrics.mean_squared_error(null_pred, y)\n",
    "print(null_mse)"
   ]
  },
  {
   "cell_type": "markdown",
   "metadata": {},
   "source": [
    "- Develop a linear regression model to predict MEDV. Train it on 70% of the data. Gets its MSE on both that 70% and the other 30%."
   ]
  },
  {
   "cell_type": "code",
   "execution_count": 11,
   "metadata": {},
   "outputs": [
    {
     "name": "stdout",
     "output_type": "stream",
     "text": [
      "20.197702348676366\n",
      "28.37644965546656\n"
     ]
    }
   ],
   "source": [
    "from sklearn.model_selection import train_test_split\n",
    "from sklearn.linear_model import LinearRegression\n",
    "\n",
    "#X = boston_data.drop(['B', 'CHAS','MEDV', 'ZN'], axis=1)\n",
    "\n",
    "X_train, X_test, y_train, y_test = train_test_split(X, y, test_size=0.3, random_state=123)\n",
    "linreg = LinearRegression()\n",
    "linreg.fit(X_train, y_train)\n",
    "y_pred_test = linreg.predict(X_test)\n",
    "y_pred_train = linreg.predict(X_train)\n",
    "\n",
    "MSE_test = metrics.mean_squared_error(y_test, y_pred_test)\n",
    "MSE_train = metrics.mean_squared_error(y_train, y_pred_train)\n",
    "\n",
    "print(MSE_train)\n",
    "print(MSE_test)"
   ]
  },
  {
   "cell_type": "code",
   "execution_count": 12,
   "metadata": {},
   "outputs": [
    {
     "data": {
      "text/html": [
       "<div>\n",
       "<style scoped>\n",
       "    .dataframe tbody tr th:only-of-type {\n",
       "        vertical-align: middle;\n",
       "    }\n",
       "\n",
       "    .dataframe tbody tr th {\n",
       "        vertical-align: top;\n",
       "    }\n",
       "\n",
       "    .dataframe thead th {\n",
       "        text-align: right;\n",
       "    }\n",
       "</style>\n",
       "<table border=\"1\" class=\"dataframe\">\n",
       "  <thead>\n",
       "    <tr style=\"text-align: right;\">\n",
       "      <th></th>\n",
       "      <th>CRIM</th>\n",
       "      <th>ZN</th>\n",
       "      <th>INDUS</th>\n",
       "      <th>CHAS</th>\n",
       "      <th>NOX</th>\n",
       "      <th>RM</th>\n",
       "      <th>AGE</th>\n",
       "      <th>DIS</th>\n",
       "      <th>RAD</th>\n",
       "      <th>TAX</th>\n",
       "      <th>PTRATIO</th>\n",
       "      <th>B</th>\n",
       "      <th>LSTAT</th>\n",
       "    </tr>\n",
       "  </thead>\n",
       "  <tbody>\n",
       "    <tr>\n",
       "      <th>0</th>\n",
       "      <td>0.00632</td>\n",
       "      <td>18.0</td>\n",
       "      <td>2.31</td>\n",
       "      <td>0.0</td>\n",
       "      <td>0.538</td>\n",
       "      <td>6.575</td>\n",
       "      <td>65.2</td>\n",
       "      <td>4.0900</td>\n",
       "      <td>1.0</td>\n",
       "      <td>296.0</td>\n",
       "      <td>15.3</td>\n",
       "      <td>396.90</td>\n",
       "      <td>4.98</td>\n",
       "    </tr>\n",
       "    <tr>\n",
       "      <th>1</th>\n",
       "      <td>0.02731</td>\n",
       "      <td>0.0</td>\n",
       "      <td>7.07</td>\n",
       "      <td>0.0</td>\n",
       "      <td>0.469</td>\n",
       "      <td>6.421</td>\n",
       "      <td>78.9</td>\n",
       "      <td>4.9671</td>\n",
       "      <td>2.0</td>\n",
       "      <td>242.0</td>\n",
       "      <td>17.8</td>\n",
       "      <td>396.90</td>\n",
       "      <td>9.14</td>\n",
       "    </tr>\n",
       "    <tr>\n",
       "      <th>2</th>\n",
       "      <td>0.02729</td>\n",
       "      <td>0.0</td>\n",
       "      <td>7.07</td>\n",
       "      <td>0.0</td>\n",
       "      <td>0.469</td>\n",
       "      <td>7.185</td>\n",
       "      <td>61.1</td>\n",
       "      <td>4.9671</td>\n",
       "      <td>2.0</td>\n",
       "      <td>242.0</td>\n",
       "      <td>17.8</td>\n",
       "      <td>392.83</td>\n",
       "      <td>4.03</td>\n",
       "    </tr>\n",
       "    <tr>\n",
       "      <th>3</th>\n",
       "      <td>0.03237</td>\n",
       "      <td>0.0</td>\n",
       "      <td>2.18</td>\n",
       "      <td>0.0</td>\n",
       "      <td>0.458</td>\n",
       "      <td>6.998</td>\n",
       "      <td>45.8</td>\n",
       "      <td>6.0622</td>\n",
       "      <td>3.0</td>\n",
       "      <td>222.0</td>\n",
       "      <td>18.7</td>\n",
       "      <td>394.63</td>\n",
       "      <td>2.94</td>\n",
       "    </tr>\n",
       "    <tr>\n",
       "      <th>4</th>\n",
       "      <td>0.06905</td>\n",
       "      <td>0.0</td>\n",
       "      <td>2.18</td>\n",
       "      <td>0.0</td>\n",
       "      <td>0.458</td>\n",
       "      <td>7.147</td>\n",
       "      <td>54.2</td>\n",
       "      <td>6.0622</td>\n",
       "      <td>3.0</td>\n",
       "      <td>222.0</td>\n",
       "      <td>18.7</td>\n",
       "      <td>396.90</td>\n",
       "      <td>5.33</td>\n",
       "    </tr>\n",
       "  </tbody>\n",
       "</table>\n",
       "</div>"
      ],
      "text/plain": [
       "      CRIM    ZN  INDUS  CHAS    NOX     RM   AGE     DIS  RAD    TAX  \\\n",
       "0  0.00632  18.0   2.31   0.0  0.538  6.575  65.2  4.0900  1.0  296.0   \n",
       "1  0.02731   0.0   7.07   0.0  0.469  6.421  78.9  4.9671  2.0  242.0   \n",
       "2  0.02729   0.0   7.07   0.0  0.469  7.185  61.1  4.9671  2.0  242.0   \n",
       "3  0.03237   0.0   2.18   0.0  0.458  6.998  45.8  6.0622  3.0  222.0   \n",
       "4  0.06905   0.0   2.18   0.0  0.458  7.147  54.2  6.0622  3.0  222.0   \n",
       "\n",
       "   PTRATIO       B  LSTAT  \n",
       "0     15.3  396.90   4.98  \n",
       "1     17.8  396.90   9.14  \n",
       "2     17.8  392.83   4.03  \n",
       "3     18.7  394.63   2.94  \n",
       "4     18.7  396.90   5.33  "
      ]
     },
     "execution_count": 12,
     "metadata": {},
     "output_type": "execute_result"
    }
   ],
   "source": [
    "X.head()"
   ]
  },
  {
   "cell_type": "markdown",
   "metadata": {},
   "source": [
    "- K-fold cross-validation is slower than a simple train/test split, but it gives more reliable estimates of generalization error. Use ten-fold cross-validation to evaluate your model's MSE on both training and test data. Use this result to answer the following questions."
   ]
  },
  {
   "cell_type": "code",
   "execution_count": 13,
   "metadata": {},
   "outputs": [
    {
     "name": "stdout",
     "output_type": "stream",
     "text": [
      "~~~~ CROSS VALIDATION each fold ~~~~\n",
      "Model 1\n",
      "MSE_test: 25.9550962969755\n",
      "MSE_train: 21.58821446190564\n",
      "Model 2\n",
      "MSE_test: 31.295720642844206\n",
      "MSE_train: 21.050423035279096\n",
      "Model 3\n",
      "MSE_test: 18.701545161004095\n",
      "MSE_train: 22.3199716354402\n",
      "Model 4\n",
      "MSE_test: 19.0734250717017\n",
      "MSE_train: 22.30953113523895\n",
      "Model 5\n",
      "MSE_test: 19.112023493000454\n",
      "MSE_train: 22.29802291635007\n",
      "Model 6\n",
      "MSE_test: 31.472761583000356\n",
      "MSE_train: 20.886883937614094\n",
      "Model 7\n",
      "MSE_test: 19.151699798984385\n",
      "MSE_train: 22.332473713262964\n",
      "Model 8\n",
      "MSE_test: 33.694715237050325\n",
      "MSE_train: 20.69485123291951\n",
      "Model 9\n",
      "MSE_test: 23.525818467235283\n",
      "MSE_train: 21.881243147679264\n",
      "Model 10\n",
      "MSE_test: 16.226000610633253\n",
      "MSE_train: 22.621304229146418\n",
      "~~~~ SUMMARY OF CROSS VALIDATION ~~~~\n",
      "Mean of MSE_test for all folds: 23.820880636242958\n",
      "Mean of MSE_train for all folds: 21.798291944483623\n"
     ]
    }
   ],
   "source": [
    "from sklearn import model_selection\n",
    "kf = model_selection.KFold(n_splits=10, shuffle=True)\n",
    "mse_values_test = []\n",
    "mse_values_train = []\n",
    "\n",
    "n = 0\n",
    "\n",
    "print(\"~~~~ CROSS VALIDATION each fold ~~~~\")\n",
    "for train_index, test_index in kf.split(X, y):\n",
    "    lr = LinearRegression().fit(X.iloc[train_index, :], y.iloc[train_index])\n",
    "    \n",
    "    mse_values_test.append(metrics.mean_squared_error(y.iloc[test_index], lr.predict(X.iloc[test_index, :])))\n",
    "    mse_values_train.append(metrics.mean_squared_error(y.iloc[train_index], lr.predict(X.iloc[train_index, :])))\n",
    "    \n",
    "    n += 1\n",
    "    print('Model {}'.format(n))\n",
    "    print('MSE_test: {}'.format(mse_values_test[n-1]))\n",
    "    print('MSE_train: {}'.format(mse_values_train[n-1]))\n",
    "\n",
    "\n",
    "print(\"~~~~ SUMMARY OF CROSS VALIDATION ~~~~\")\n",
    "print('Mean of MSE_test for all folds: {}'.format(np.mean(mse_values_test)))\n",
    "print('Mean of MSE_train for all folds: {}'.format(np.mean(mse_values_train)))\n",
    "\n"
   ]
  },
  {
   "cell_type": "markdown",
   "metadata": {},
   "source": [
    "- How well did your model perform on the training set compared to the null model? What does this result tell you about the bias and/or variance of your model?"
   ]
  },
  {
   "cell_type": "markdown",
   "metadata": {},
   "source": [
    "The 10 fold model gives us a significant decrease in MSE compared to our null model. The test data is slightly higher than the training data on 10 fold average which seems right. As bias has significantly increased becasue of low difference in training and test dataset."
   ]
  },
  {
   "cell_type": "markdown",
   "metadata": {},
   "source": []
  },
  {
   "cell_type": "markdown",
   "metadata": {},
   "source": [
    "- How well did your model perform on the test set compared to how well it performed on the training set? What does this result tell you about the bias and/or variance of your model?"
   ]
  },
  {
   "cell_type": "markdown",
   "metadata": {},
   "source": [
    "On a 10 fold cross validation, we have seen a low variance as for each fold on test set as MSE on the training set is similar while on test set, the MSE changes more frequently on each fold."
   ]
  },
  {
   "cell_type": "markdown",
   "metadata": {},
   "source": []
  },
  {
   "cell_type": "markdown",
   "metadata": {},
   "source": [
    "- How much of a bias problem does your model appear to have? Why do you say that?"
   ]
  },
  {
   "cell_type": "markdown",
   "metadata": {},
   "source": [
    "there is a high bias if there is a low difference between the training and test set, as the data underfits the data with the avialable feature variable and cannot generalize."
   ]
  },
  {
   "cell_type": "markdown",
   "metadata": {},
   "source": []
  },
  {
   "cell_type": "markdown",
   "metadata": {},
   "source": [
    "- How much of a variance problem does your model appear to have? Why do you say that?"
   ]
  },
  {
   "cell_type": "markdown",
   "metadata": {},
   "source": [
    "Its a low variance model as the difference between test and training is not much. "
   ]
  },
  {
   "cell_type": "markdown",
   "metadata": {},
   "source": []
  },
  {
   "cell_type": "markdown",
   "metadata": {},
   "source": [
    "- Add or remove variables from your model to address this problem, and get its test-set MSE using ten-fold cross validation. Did your model get better or worse? By how much?"
   ]
  },
  {
   "cell_type": "markdown",
   "metadata": {},
   "source": [
    "When i tried removing X = boston_data.drop(['B', 'CHAS','MEDV', 'ZN'], axis=1) these variables, my MSE for the test set increases from 28 to 30 while the MSE for the training was not affected. "
   ]
  },
  {
   "cell_type": "markdown",
   "metadata": {},
   "source": []
  },
  {
   "cell_type": "markdown",
   "metadata": {},
   "source": [
    "- **Bonus:** Find a *transformation* of one of more of your feature variables that allows you to create a model that performs better on the test set than your previous model. \n",
    "\n",
    "Possible examples:\n",
    "    - Square a column\n",
    "    - Take the square root of a column\n",
    "    - Take the logarithm of a column\n",
    "    - Multiply two columns together\n",
    "\n",
    "Tip: Look at scatterplots of MEDV against your column(s) before and after applying the transformation. The transformation should help if it makes the relationship more linear."
   ]
  },
  {
   "cell_type": "code",
   "execution_count": null,
   "metadata": {},
   "outputs": [],
   "source": []
  },
  {
   "cell_type": "markdown",
   "metadata": {},
   "source": [
    "# KNN Practice"
   ]
  },
  {
   "cell_type": "code",
   "execution_count": 14,
   "metadata": {},
   "outputs": [],
   "source": [
    "# Read the iris data into a DataFrame\n",
    "url = 'http://archive.ics.uci.edu/ml/machine-learning-databases/iris/iris.data'\n",
    "\n",
    "col_names = ['sepal_length', 'sepal_width', 'petal_length', 'petal_width', 'species']\n",
    "iris = pd.read_csv(url, header=None, names=col_names)"
   ]
  },
  {
   "cell_type": "code",
   "execution_count": 15,
   "metadata": {},
   "outputs": [],
   "source": [
    "iris.head()\n",
    "\n",
    "# Increase the default figure and font sizes for easier viewing\n",
    "plt.rcParams['figure.figsize'] = (6, 4)\n",
    "plt.rcParams['font.size'] = 14"
   ]
  },
  {
   "cell_type": "code",
   "execution_count": 16,
   "metadata": {},
   "outputs": [],
   "source": [
    "# Create a custom colormap\n",
    "from matplotlib.colors import ListedColormap\n",
    "\n",
    "cmap_bold = ListedColormap(['#FF0000', '#00FF00', '#0000FF'])"
   ]
  },
  {
   "cell_type": "markdown",
   "metadata": {},
   "source": [
    "- Map each iris species to a number. Let's use Iris-setosa':0, 'Iris-versicolor':1, 'Iris-virginica':2 and assign the result to a column called 'species_num'."
   ]
  },
  {
   "cell_type": "code",
   "execution_count": 17,
   "metadata": {},
   "outputs": [],
   "source": [
    "iris.loc[:, 'species_num'] = iris.loc[:, 'species'].map({'Iris-setosa':0, 'Iris-versicolor':1, 'Iris-virginica':2})"
   ]
  },
  {
   "cell_type": "markdown",
   "metadata": {},
   "source": [
    "- Clean Up Data and Perform Exporatory Data Analysis"
   ]
  },
  {
   "cell_type": "markdown",
   "metadata": {},
   "source": [
    "**Items to include:**\n",
    "\n",
    "- Data shape\n",
    "- Data types\n",
    "- Count of null values by column\n",
    "- Basic summary statistics\n",
    "- Number of unique values for each column\n",
    "- Plot of the distribution of each column (e.g. histogram, bar plot, or box plot) grouped by species"
   ]
  },
  {
   "cell_type": "code",
   "execution_count": 18,
   "metadata": {},
   "outputs": [
    {
     "name": "stdout",
     "output_type": "stream",
     "text": [
      "(150, 6)\n",
      "sepal_length    float64\n",
      "sepal_width     float64\n",
      "petal_length    float64\n",
      "petal_width     float64\n",
      "species          object\n",
      "species_num       int64\n",
      "dtype: object\n",
      "sepal_length    0\n",
      "sepal_width     0\n",
      "petal_length    0\n",
      "petal_width     0\n",
      "species         0\n",
      "species_num     0\n",
      "dtype: int64\n",
      "       sepal_length  sepal_width  petal_length  petal_width  species_num\n",
      "count    150.000000   150.000000    150.000000   150.000000   150.000000\n",
      "mean       5.843333     3.054000      3.758667     1.198667     1.000000\n",
      "std        0.828066     0.433594      1.764420     0.763161     0.819232\n",
      "min        4.300000     2.000000      1.000000     0.100000     0.000000\n",
      "25%        5.100000     2.800000      1.600000     0.300000     0.000000\n",
      "50%        5.800000     3.000000      4.350000     1.300000     1.000000\n",
      "75%        6.400000     3.300000      5.100000     1.800000     2.000000\n",
      "max        7.900000     4.400000      6.900000     2.500000     2.000000\n",
      "sepal_length    35\n",
      "sepal_width     23\n",
      "petal_length    43\n",
      "petal_width     22\n",
      "species          3\n",
      "species_num      3\n",
      "dtype: int64\n"
     ]
    }
   ],
   "source": [
    "print(iris.shape)\n",
    "print(iris.dtypes)\n",
    "print(iris.isnull().sum())\n",
    "print(iris.describe())\n",
    "print(iris.nunique())"
   ]
  },
  {
   "cell_type": "code",
   "execution_count": 19,
   "metadata": {},
   "outputs": [
    {
     "data": {
      "image/png": "[encoded data removed]",
      "text/plain": [
       "<Figure size 720x576 with 6 Axes>"
      ]
     },
     "metadata": {},
     "output_type": "display_data"
    }
   ],
   "source": [
    "ax = iris.boxplot(by='species', rot=45, figsize=(10, 8));"
   ]
  },
  {
   "cell_type": "markdown",
   "metadata": {},
   "source": [
    "- Get the accuracy of a null model that simply predicts the most common species."
   ]
  },
  {
   "cell_type": "code",
   "execution_count": 20,
   "metadata": {},
   "outputs": [
    {
     "name": "stdout",
     "output_type": "stream",
     "text": [
      "0.3333333333333333\n"
     ]
    }
   ],
   "source": [
    "from sklearn import metrics\n",
    "\n",
    "feature_cols = ['petal_length', 'petal_width']\n",
    "X = iris.loc[:, feature_cols]\n",
    "y = iris.loc[:, 'species_num']\n",
    "\n",
    "null_pred = np.zeros(len(y)) \n",
    "null_accuracy= metrics.accuracy_score(null_pred, y)\n",
    "print(null_accuracy)"
   ]
  },
  {
   "cell_type": "markdown",
   "metadata": {},
   "source": [
    "- Develop a KNN model to predict species. Use ten-fold cross-validation to evaluate your model's accuracy on both training and test data. Remember to standardize your feature variables!"
   ]
  },
  {
   "cell_type": "code",
   "execution_count": 55,
   "metadata": {},
   "outputs": [
    {
     "name": "stdout",
     "output_type": "stream",
     "text": [
      "0.9473684210526315\n"
     ]
    }
   ],
   "source": [
    "from sklearn.neighbors import KNeighborsClassifier\n",
    "from sklearn.preprocessing import StandardScaler\n",
    "\n",
    "feature_cols = ['petal_length', 'petal_width']\n",
    "X = iris.loc[:, feature_cols]\n",
    "y = iris.loc[:, 'species_num']\n",
    "X_train, X_test, y_train, y_test = train_test_split(X, y, random_state=99, shuffle=True)\n",
    "scaler = StandardScaler()\n",
    "X_train = scaler.fit_transform(X_train)\n",
    "X_test = scaler.transform(X_test)\n",
    "knn = KNeighborsClassifier(n_neighbors=22)\n",
    "knn.fit(X_train, y_train)\n",
    "y_pred_class = knn.predict(X_test)\n",
    "print((metrics.accuracy_score(y_test, y_pred_class)))\n"
   ]
  },
  {
   "cell_type": "code",
   "execution_count": 56,
   "metadata": {},
   "outputs": [
    {
     "name": "stdout",
     "output_type": "stream",
     "text": [
      "~~~~ CROSS VALIDATION each fold ~~~~\n",
      "Model 1\n",
      "Accuracy_test_knn: 1.0\n",
      "Accuracy_train_knn: 0.9481481481481482\n",
      "Model 2\n",
      "Accuracy_test_knn: 0.9333333333333333\n",
      "Accuracy_train_knn: 0.9629629629629629\n",
      "Model 3\n",
      "Accuracy_test_knn: 0.9333333333333333\n",
      "Accuracy_train_knn: 0.9629629629629629\n",
      "Model 4\n",
      "Accuracy_test_knn: 0.9333333333333333\n",
      "Accuracy_train_knn: 0.9555555555555556\n",
      "Model 5\n",
      "Accuracy_test_knn: 1.0\n",
      "Accuracy_train_knn: 0.9555555555555556\n",
      "Model 6\n",
      "Accuracy_test_knn: 0.9333333333333333\n",
      "Accuracy_train_knn: 0.9703703703703703\n",
      "Model 7\n",
      "Accuracy_test_knn: 1.0\n",
      "Accuracy_train_knn: 0.9555555555555556\n",
      "Model 8\n",
      "Accuracy_test_knn: 0.8666666666666667\n",
      "Accuracy_train_knn: 0.9703703703703703\n",
      "Model 9\n",
      "Accuracy_test_knn: 1.0\n",
      "Accuracy_train_knn: 0.9629629629629629\n",
      "Model 10\n",
      "Accuracy_test_knn: 0.9333333333333333\n",
      "Accuracy_train_knn: 0.9629629629629629\n",
      "~~~~ SUMMARY OF CROSS VALIDATION ~~~~\n",
      "Mean of Accuracy_test_knn for all folds: 0.9533333333333334\n",
      "Mean of Accuracy_train_knn for all folds: 0.9607407407407409\n"
     ]
    }
   ],
   "source": [
    "from sklearn import model_selection\n",
    "kf = model_selection.KFold(n_splits=10, shuffle=True)\n",
    "Accuracy_test_knn = []\n",
    "Accuracy_train_knn = []\n",
    "\n",
    "n = 0\n",
    "\n",
    "print(\"~~~~ CROSS VALIDATION each fold ~~~~\")\n",
    "for train_index, test_index in kf.split(X, y):\n",
    "    KNN = knn.fit(X.iloc[train_index, :], y.iloc[train_index])\n",
    "    \n",
    "    Accuracy_test_knn.append(metrics.accuracy_score(y.iloc[test_index], knn.predict(X.iloc[test_index, :])))\n",
    "    Accuracy_train_knn.append(metrics.accuracy_score(y.iloc[train_index], knn.predict(X.iloc[train_index, :])))\n",
    "    \n",
    "    n += 1\n",
    "    print('Model {}'.format(n))\n",
    "    print('Accuracy_test_knn: {}'.format(Accuracy_test_knn[n-1]))\n",
    "    print('Accuracy_train_knn: {}'.format(Accuracy_train_knn[n-1]))\n",
    "\n",
    "\n",
    "print(\"~~~~ SUMMARY OF CROSS VALIDATION ~~~~\")\n",
    "print('Mean of Accuracy_test_knn for all folds: {}'.format(np.mean(Accuracy_test_knn)))\n",
    "print('Mean of Accuracy_train_knn for all folds: {}'.format(np.mean(Accuracy_train_knn)))"
   ]
  },
  {
   "cell_type": "markdown",
   "metadata": {},
   "source": [
    "- How well did your model perform on the training set compared to the null model? What does this result tell you about the bias and/or variance of your model?"
   ]
  },
  {
   "cell_type": "markdown",
   "metadata": {},
   "source": [
    "In comparision ot the null model, our model of KNN and 10 fold cross validation performed closed to 3 times better. While comparing with the null model, we have low bias and low variance. "
   ]
  },
  {
   "cell_type": "markdown",
   "metadata": {},
   "source": []
  },
  {
   "cell_type": "markdown",
   "metadata": {},
   "source": [
    "- How well did your model perform on the test set compared to how well it performed on the training set? What does this result tell you about the bias and/or variance of your model?"
   ]
  },
  {
   "cell_type": "markdown",
   "metadata": {},
   "source": [
    "For High Bias, there will be very little gap between Training and Testing Scores. This is because in High Bias scenarios, the model underfits the data and also cannot generalize the data well."
   ]
  },
  {
   "cell_type": "markdown",
   "metadata": {},
   "source": []
  },
  {
   "cell_type": "markdown",
   "metadata": {},
   "source": [
    "- Does your model appear to have more of a bias problem or more of a variance problem? Why?"
   ]
  },
  {
   "cell_type": "markdown",
   "metadata": {},
   "source": [
    "The model has a high bias problem becasue of little gap between Training and Testing Scores with our model. "
   ]
  },
  {
   "cell_type": "markdown",
   "metadata": {},
   "source": []
  },
  {
   "cell_type": "markdown",
   "metadata": {},
   "source": [
    "- Adjust $k$ to address this problem, and get the resulting test-set accuracy using ten-fold cross validation. Did your model get better or worse? By how much?"
   ]
  },
  {
   "cell_type": "code",
   "execution_count": 47,
   "metadata": {},
   "outputs": [
    {
     "name": "stdout",
     "output_type": "stream",
     "text": [
      "Value of K 1\n",
      "Mean of Accuracy_scores_test for all folds: 0.9666666666666666\n",
      "Mean of Accuracy_score_train for all folds: 0.9933333333333332\n",
      "Value of K 2\n",
      "Mean of Accuracy_scores_test for all folds: 0.9466666666666667\n",
      "Mean of Accuracy_score_train for all folds: 0.9740740740740741\n",
      "Value of K 3\n",
      "Mean of Accuracy_scores_test for all folds: 0.96\n",
      "Mean of Accuracy_score_train for all folds: 0.9792592592592593\n",
      "Value of K 4\n",
      "Mean of Accuracy_scores_test for all folds: 0.96\n",
      "Mean of Accuracy_score_train for all folds: 0.9725925925925927\n",
      "Value of K 5\n",
      "Mean of Accuracy_scores_test for all folds: 0.96\n",
      "Mean of Accuracy_score_train for all folds: 0.9622222222222222\n",
      "Value of K 6\n",
      "Mean of Accuracy_scores_test for all folds: 0.9533333333333334\n",
      "Mean of Accuracy_score_train for all folds: 0.9674074074074074\n",
      "Value of K 7\n",
      "Mean of Accuracy_scores_test for all folds: 0.96\n",
      "Mean of Accuracy_score_train for all folds: 0.9644444444444445\n",
      "Value of K 8\n",
      "Mean of Accuracy_scores_test for all folds: 0.96\n",
      "Mean of Accuracy_score_train for all folds: 0.965925925925926\n",
      "Value of K 9\n",
      "Mean of Accuracy_scores_test for all folds: 0.96\n",
      "Mean of Accuracy_score_train for all folds: 0.9622222222222223\n",
      "Value of K 10\n",
      "Mean of Accuracy_scores_test for all folds: 0.96\n",
      "Mean of Accuracy_score_train for all folds: 0.9614814814814816\n",
      "Value of K 11\n",
      "Mean of Accuracy_scores_test for all folds: 0.9666666666666666\n",
      "Mean of Accuracy_score_train for all folds: 0.962962962962963\n",
      "Value of K 12\n",
      "Mean of Accuracy_scores_test for all folds: 0.9600000000000002\n",
      "Mean of Accuracy_score_train for all folds: 0.9622222222222222\n",
      "Value of K 13\n",
      "Mean of Accuracy_scores_test for all folds: 0.96\n",
      "Mean of Accuracy_score_train for all folds: 0.9644444444444444\n",
      "Value of K 14\n",
      "Mean of Accuracy_scores_test for all folds: 0.9600000000000002\n",
      "Mean of Accuracy_score_train for all folds: 0.9607407407407408\n",
      "Value of K 15\n",
      "Mean of Accuracy_scores_test for all folds: 0.96\n",
      "Mean of Accuracy_score_train for all folds: 0.9607407407407409\n",
      "Value of K 16\n",
      "Mean of Accuracy_scores_test for all folds: 0.9533333333333334\n",
      "Mean of Accuracy_score_train for all folds: 0.9614814814814816\n",
      "Value of K 17\n",
      "Mean of Accuracy_scores_test for all folds: 0.96\n",
      "Mean of Accuracy_score_train for all folds: 0.9644444444444444\n",
      "Value of K 18\n",
      "Mean of Accuracy_scores_test for all folds: 0.9533333333333334\n",
      "Mean of Accuracy_score_train for all folds: 0.962962962962963\n",
      "Value of K 19\n",
      "Mean of Accuracy_scores_test for all folds: 0.9600000000000002\n",
      "Mean of Accuracy_score_train for all folds: 0.9651851851851851\n",
      "Value of K 20\n",
      "Mean of Accuracy_scores_test for all folds: 0.9533333333333335\n",
      "Mean of Accuracy_score_train for all folds: 0.9614814814814816\n",
      "Value of K 21\n",
      "Mean of Accuracy_scores_test for all folds: 0.96\n",
      "Mean of Accuracy_score_train for all folds: 0.9644444444444445\n",
      "Value of K 22\n",
      "Mean of Accuracy_scores_test for all folds: 0.9666666666666668\n",
      "Mean of Accuracy_score_train for all folds: 0.9585185185185183\n",
      "Value of K 23\n",
      "Mean of Accuracy_scores_test for all folds: 0.9666666666666666\n",
      "Mean of Accuracy_score_train for all folds: 0.962962962962963\n",
      "Value of K 24\n",
      "Mean of Accuracy_scores_test for all folds: 0.9533333333333334\n",
      "Mean of Accuracy_score_train for all folds: 0.9592592592592591\n",
      "Value of K 25\n",
      "Mean of Accuracy_scores_test for all folds: 0.9399999999999998\n",
      "Mean of Accuracy_score_train for all folds: 0.9622222222222222\n",
      "Value of K 26\n",
      "Mean of Accuracy_scores_test for all folds: 0.96\n",
      "Mean of Accuracy_score_train for all folds: 0.9585185185185185\n",
      "Value of K 27\n",
      "Mean of Accuracy_scores_test for all folds: 0.9466666666666667\n",
      "Mean of Accuracy_score_train for all folds: 0.9614814814814816\n",
      "Value of K 28\n",
      "Mean of Accuracy_scores_test for all folds: 0.9533333333333334\n",
      "Mean of Accuracy_score_train for all folds: 0.9533333333333335\n",
      "Value of K 29\n",
      "Mean of Accuracy_scores_test for all folds: 0.9533333333333334\n",
      "Mean of Accuracy_score_train for all folds: 0.9570370370370371\n",
      "Value of K 30\n",
      "Mean of Accuracy_scores_test for all folds: 0.9533333333333334\n",
      "Mean of Accuracy_score_train for all folds: 0.951851851851852\n",
      "Value of K 31\n",
      "Mean of Accuracy_scores_test for all folds: 0.9466666666666667\n",
      "Mean of Accuracy_score_train for all folds: 0.9540740740740741\n",
      "Value of K 32\n",
      "Mean of Accuracy_scores_test for all folds: 0.9400000000000001\n",
      "Mean of Accuracy_score_train for all folds: 0.9540740740740741\n",
      "Value of K 33\n",
      "Mean of Accuracy_scores_test for all folds: 0.96\n",
      "Mean of Accuracy_score_train for all folds: 0.9548148148148149\n",
      "Value of K 34\n",
      "Mean of Accuracy_scores_test for all folds: 0.9466666666666667\n",
      "Mean of Accuracy_score_train for all folds: 0.9555555555555555\n",
      "Value of K 35\n",
      "Mean of Accuracy_scores_test for all folds: 0.9466666666666667\n",
      "Mean of Accuracy_score_train for all folds: 0.9585185185185185\n",
      "Value of K 36\n",
      "Mean of Accuracy_scores_test for all folds: 0.9400000000000001\n",
      "Mean of Accuracy_score_train for all folds: 0.9570370370370369\n",
      "Value of K 37\n",
      "Mean of Accuracy_scores_test for all folds: 0.9400000000000001\n",
      "Mean of Accuracy_score_train for all folds: 0.9577777777777777\n",
      "Value of K 38\n",
      "Mean of Accuracy_scores_test for all folds: 0.9533333333333334\n",
      "Mean of Accuracy_score_train for all folds: 0.9562962962962963\n",
      "Value of K 39\n",
      "Mean of Accuracy_scores_test for all folds: 0.9533333333333334\n",
      "Mean of Accuracy_score_train for all folds: 0.9577777777777777\n",
      "Value of K 40\n",
      "Mean of Accuracy_scores_test for all folds: 0.9466666666666667\n",
      "Mean of Accuracy_score_train for all folds: 0.9585185185185185\n",
      "Value of K 41\n",
      "Mean of Accuracy_scores_test for all folds: 0.9533333333333334\n",
      "Mean of Accuracy_score_train for all folds: 0.954074074074074\n",
      "Value of K 42\n",
      "Mean of Accuracy_scores_test for all folds: 0.9466666666666667\n",
      "Mean of Accuracy_score_train for all folds: 0.951851851851852\n",
      "Value of K 43\n",
      "Mean of Accuracy_scores_test for all folds: 0.9533333333333334\n",
      "Mean of Accuracy_score_train for all folds: 0.9555555555555557\n",
      "Value of K 44\n",
      "Mean of Accuracy_scores_test for all folds: 0.9466666666666667\n",
      "Mean of Accuracy_score_train for all folds: 0.9548148148148148\n",
      "Value of K 45\n",
      "Mean of Accuracy_scores_test for all folds: 0.9533333333333334\n",
      "Mean of Accuracy_score_train for all folds: 0.954074074074074\n",
      "Value of K 46\n",
      "Mean of Accuracy_scores_test for all folds: 0.9533333333333334\n",
      "Mean of Accuracy_score_train for all folds: 0.9533333333333334\n",
      "Value of K 47\n",
      "Mean of Accuracy_scores_test for all folds: 0.9466666666666667\n",
      "Mean of Accuracy_score_train for all folds: 0.9562962962962963\n",
      "Value of K 48\n",
      "Mean of Accuracy_scores_test for all folds: 0.9666666666666666\n",
      "Mean of Accuracy_score_train for all folds: 0.9511111111111111\n",
      "Value of K 49\n",
      "Mean of Accuracy_scores_test for all folds: 0.96\n",
      "Mean of Accuracy_score_train for all folds: 0.9533333333333335\n",
      "Value of K 50\n",
      "Mean of Accuracy_scores_test for all folds: 0.9533333333333334\n",
      "Mean of Accuracy_score_train for all folds: 0.9511111111111111\n",
      "Value of K 51\n",
      "Mean of Accuracy_scores_test for all folds: 0.96\n",
      "Mean of Accuracy_score_train for all folds: 0.9533333333333334\n",
      "Value of K 52\n",
      "Mean of Accuracy_scores_test for all folds: 0.9466666666666667\n",
      "Mean of Accuracy_score_train for all folds: 0.9555555555555557\n",
      "Value of K 53\n",
      "Mean of Accuracy_scores_test for all folds: 0.9466666666666667\n",
      "Mean of Accuracy_score_train for all folds: 0.9562962962962963\n",
      "Value of K 54\n",
      "Mean of Accuracy_scores_test for all folds: 0.9533333333333334\n",
      "Mean of Accuracy_score_train for all folds: 0.9555555555555557\n",
      "Value of K 55\n",
      "Mean of Accuracy_scores_test for all folds: 0.96\n",
      "Mean of Accuracy_score_train for all folds: 0.9577777777777777\n",
      "Value of K 56\n",
      "Mean of Accuracy_scores_test for all folds: 0.9533333333333334\n",
      "Mean of Accuracy_score_train for all folds: 0.9562962962962963\n",
      "Value of K 57\n",
      "Mean of Accuracy_scores_test for all folds: 0.9666666666666666\n",
      "Mean of Accuracy_score_train for all folds: 0.9592592592592591\n",
      "Value of K 58\n",
      "Mean of Accuracy_scores_test for all folds: 0.9600000000000002\n",
      "Mean of Accuracy_score_train for all folds: 0.9562962962962962\n",
      "Value of K 59\n",
      "Mean of Accuracy_scores_test for all folds: 0.9533333333333334\n",
      "Mean of Accuracy_score_train for all folds: 0.9614814814814816\n",
      "Value of K 60\n",
      "Mean of Accuracy_scores_test for all folds: 0.9466666666666667\n",
      "Mean of Accuracy_score_train for all folds: 0.9562962962962963\n",
      "Value of K 61\n",
      "Mean of Accuracy_scores_test for all folds: 0.9533333333333334\n",
      "Mean of Accuracy_score_train for all folds: 0.9570370370370371\n",
      "Value of K 62\n",
      "Mean of Accuracy_scores_test for all folds: 0.9400000000000001\n",
      "Mean of Accuracy_score_train for all folds: 0.9585185185185185\n"
     ]
    },
    {
     "name": "stdout",
     "output_type": "stream",
     "text": [
      "Value of K 63\n",
      "Mean of Accuracy_scores_test for all folds: 0.9466666666666667\n",
      "Mean of Accuracy_score_train for all folds: 0.9555555555555555\n",
      "Value of K 64\n",
      "Mean of Accuracy_scores_test for all folds: 0.9400000000000001\n",
      "Mean of Accuracy_score_train for all folds: 0.9555555555555555\n",
      "Value of K 65\n",
      "Mean of Accuracy_scores_test for all folds: 0.9400000000000001\n",
      "Mean of Accuracy_score_train for all folds: 0.9585185185185185\n",
      "Value of K 66\n",
      "Mean of Accuracy_scores_test for all folds: 0.9533333333333335\n",
      "Mean of Accuracy_score_train for all folds: 0.9548148148148148\n",
      "Value of K 67\n",
      "Mean of Accuracy_scores_test for all folds: 0.96\n",
      "Mean of Accuracy_score_train for all folds: 0.9570370370370371\n",
      "Value of K 68\n",
      "Mean of Accuracy_scores_test for all folds: 0.9533333333333334\n",
      "Mean of Accuracy_score_train for all folds: 0.9548148148148148\n",
      "Value of K 69\n",
      "Mean of Accuracy_scores_test for all folds: 0.96\n",
      "Mean of Accuracy_score_train for all folds: 0.9555555555555555\n",
      "Value of K 70\n",
      "Mean of Accuracy_scores_test for all folds: 0.9266666666666667\n",
      "Mean of Accuracy_score_train for all folds: 0.9533333333333334\n",
      "Value of K 71\n",
      "Mean of Accuracy_scores_test for all folds: 0.9533333333333334\n",
      "Mean of Accuracy_score_train for all folds: 0.9533333333333334\n",
      "Value of K 72\n",
      "Mean of Accuracy_scores_test for all folds: 0.9466666666666667\n",
      "Mean of Accuracy_score_train for all folds: 0.9525925925925925\n",
      "Value of K 73\n",
      "Mean of Accuracy_scores_test for all folds: 0.9533333333333334\n",
      "Mean of Accuracy_score_train for all folds: 0.9570370370370371\n",
      "Value of K 74\n",
      "Mean of Accuracy_scores_test for all folds: 0.9533333333333334\n",
      "Mean of Accuracy_score_train for all folds: 0.9503703703703705\n",
      "Value of K 75\n",
      "Mean of Accuracy_scores_test for all folds: 0.9400000000000001\n",
      "Mean of Accuracy_score_train for all folds: 0.9540740740740743\n",
      "Value of K 76\n",
      "Mean of Accuracy_scores_test for all folds: 0.9266666666666665\n",
      "Mean of Accuracy_score_train for all folds: 0.9518518518518517\n",
      "Value of K 77\n",
      "Mean of Accuracy_scores_test for all folds: 0.9400000000000001\n",
      "Mean of Accuracy_score_train for all folds: 0.9548148148148149\n",
      "Value of K 78\n",
      "Mean of Accuracy_scores_test for all folds: 0.9400000000000001\n",
      "Mean of Accuracy_score_train for all folds: 0.9459259259259258\n",
      "Value of K 79\n",
      "Mean of Accuracy_scores_test for all folds: 0.9133333333333333\n",
      "Mean of Accuracy_score_train for all folds: 0.9488888888888891\n",
      "Value of K 80\n",
      "Mean of Accuracy_scores_test for all folds: 0.9266666666666667\n",
      "Mean of Accuracy_score_train for all folds: 0.9466666666666667\n",
      "Value of K 81\n",
      "Mean of Accuracy_scores_test for all folds: 0.9400000000000001\n",
      "Mean of Accuracy_score_train for all folds: 0.9466666666666667\n",
      "Value of K 82\n",
      "Mean of Accuracy_scores_test for all folds: 0.8733333333333334\n",
      "Mean of Accuracy_score_train for all folds: 0.9214814814814816\n",
      "Value of K 83\n",
      "Mean of Accuracy_scores_test for all folds: 0.8466666666666667\n",
      "Mean of Accuracy_score_train for all folds: 0.8933333333333333\n",
      "Value of K 84\n",
      "Mean of Accuracy_scores_test for all folds: 0.8933333333333333\n",
      "Mean of Accuracy_score_train for all folds: 0.9133333333333333\n",
      "Value of K 85\n",
      "Mean of Accuracy_scores_test for all folds: 0.9199999999999999\n",
      "Mean of Accuracy_score_train for all folds: 0.9274074074074076\n",
      "Value of K 86\n",
      "Mean of Accuracy_scores_test for all folds: 0.9066666666666666\n",
      "Mean of Accuracy_score_train for all folds: 0.9355555555555555\n",
      "Value of K 87\n",
      "Mean of Accuracy_scores_test for all folds: 0.8066666666666666\n",
      "Mean of Accuracy_score_train for all folds: 0.8681481481481482\n",
      "Value of K 88\n",
      "Mean of Accuracy_scores_test for all folds: 0.6733333333333332\n",
      "Mean of Accuracy_score_train for all folds: 0.7622222222222224\n",
      "Value of K 89\n",
      "Mean of Accuracy_scores_test for all folds: 0.62\n",
      "Mean of Accuracy_score_train for all folds: 0.7466666666666667\n",
      "Value of K 90\n",
      "Mean of Accuracy_scores_test for all folds: 0.6266666666666667\n",
      "Mean of Accuracy_score_train for all folds: 0.7266666666666668\n",
      "Value of K 91\n",
      "Mean of Accuracy_scores_test for all folds: 0.5933333333333334\n",
      "Mean of Accuracy_score_train for all folds: 0.7222222222222221\n",
      "Value of K 92\n",
      "Mean of Accuracy_scores_test for all folds: 0.5866666666666667\n",
      "Mean of Accuracy_score_train for all folds: 0.6792592592592592\n",
      "Value of K 93\n",
      "Mean of Accuracy_scores_test for all folds: 0.5133333333333334\n",
      "Mean of Accuracy_score_train for all folds: 0.6377777777777778\n",
      "Value of K 94\n",
      "Mean of Accuracy_scores_test for all folds: 0.44000000000000006\n",
      "Mean of Accuracy_score_train for all folds: 0.591111111111111\n",
      "Value of K 95\n",
      "Mean of Accuracy_scores_test for all folds: 0.5533333333333333\n",
      "Mean of Accuracy_score_train for all folds: 0.6666666666666667\n",
      "Value of K 96\n",
      "Mean of Accuracy_scores_test for all folds: 0.5266666666666666\n",
      "Mean of Accuracy_score_train for all folds: 0.634074074074074\n",
      "Value of K 97\n",
      "Mean of Accuracy_scores_test for all folds: 0.44666666666666666\n",
      "Mean of Accuracy_score_train for all folds: 0.557037037037037\n",
      "Value of K 98\n",
      "Mean of Accuracy_scores_test for all folds: 0.43999999999999995\n",
      "Mean of Accuracy_score_train for all folds: 0.5888888888888889\n",
      "Value of K 99\n",
      "Mean of Accuracy_scores_test for all folds: 0.48\n",
      "Mean of Accuracy_score_train for all folds: 0.5740740740740741\n"
     ]
    }
   ],
   "source": [
    "# Calculate TRAINING ACCURACY and TESTING ACCURACY for K=1 through 100.\n",
    "# /scrub/\n",
    "Accuracy_test = []\n",
    "Accuracy_train = []\n",
    "\n",
    "for k in range(1, 100):\n",
    "    test_scores_train = []\n",
    "    test_scores_test = []\n",
    "    \n",
    "  \n",
    "    knn = KNeighborsClassifier(n_neighbors=k)\n",
    "    for train_index, test_index in kf.split(X, y):\n",
    "        KNN = knn.fit(X.iloc[train_index, :], y.iloc[train_index])\n",
    "\n",
    "        test_scores_test.append(metrics.accuracy_score(y.iloc[test_index], knn.predict(X.iloc[test_index, :])))\n",
    "        test_scores_train.append(metrics.accuracy_score(y.iloc[train_index], knn.predict(X.iloc[train_index, :])))\n",
    "    \n",
    "\n",
    "       # print('Value of K {}'.format(k))\n",
    "       # print('Accuracy_scores_test: {}'.format(test_scores_test[n-1]))\n",
    "       # print('Accuracy_score_train: {}'.format(test_scores_train[n-1]))\n",
    "    Accuracy_test.append(np.mean(test_scores_test))\n",
    "    Accuracy_train.append(np.mean(test_scores_train))\n",
    "\n",
    "    #print(\"~~~~ SUMMARY OF CROSS VALIDATION ~~~~\")\n",
    "    print('Value of K {}'.format(k))\n",
    "    print('Mean of Accuracy_scores_test for all folds: {}'.format(np.mean(test_scores_test)))\n",
    "    test_accuracy = metrics.accuracy_score(y_test, y_pred_class)\n",
    "    print('Mean of Accuracy_score_train for all folds: {}'.format(np.mean(test_scores_train)))"
   ]
  },
  {
   "cell_type": "code",
   "execution_count": 53,
   "metadata": {},
   "outputs": [
    {
     "data": {
      "image/png": "[encoded data removed]",
      "text/plain": [
       "<Figure size 432x288 with 1 Axes>"
      ]
     },
     "metadata": {},
     "output_type": "display_data"
    }
   ],
   "source": [
    "# Find the minimum testing error and the associated K value.\n",
    "# /scrub/\n",
    "scores_df.loc[:, 'test_score'] = Accuracy_test\n",
    "ax = scores_df.plot(kind='line', x='k', y='test_score')\n"
   ]
  },
  {
   "cell_type": "markdown",
   "metadata": {},
   "source": [
    "Our model is better for most part of the k value but once you increase after 80, the accuracy drops significantly."
   ]
  },
  {
   "cell_type": "markdown",
   "metadata": {},
   "source": [
    "- Plot your model's test-set accuracy across a range of $k$ values using ten-fold cross validation. Use a large enough range of $k$ values to provide reasonable assurance that making $k$ larger would not help.\n",
    "\n",
    "Tip: Use functions and loops to avoid writing duplicate code."
   ]
  },
  {
   "cell_type": "code",
   "execution_count": 54,
   "metadata": {},
   "outputs": [
    {
     "data": {
      "text/html": [
       "<div>\n",
       "<style scoped>\n",
       "    .dataframe tbody tr th:only-of-type {\n",
       "        vertical-align: middle;\n",
       "    }\n",
       "\n",
       "    .dataframe tbody tr th {\n",
       "        vertical-align: top;\n",
       "    }\n",
       "\n",
       "    .dataframe thead th {\n",
       "        text-align: right;\n",
       "    }\n",
       "</style>\n",
       "<table border=\"1\" class=\"dataframe\">\n",
       "  <thead>\n",
       "    <tr style=\"text-align: right;\">\n",
       "      <th></th>\n",
       "      <th>k</th>\n",
       "      <th>train_score</th>\n",
       "      <th>test_score</th>\n",
       "    </tr>\n",
       "  </thead>\n",
       "  <tbody>\n",
       "    <tr>\n",
       "      <th>21</th>\n",
       "      <td>22</td>\n",
       "      <td>0.960000</td>\n",
       "      <td>0.966667</td>\n",
       "    </tr>\n",
       "    <tr>\n",
       "      <th>56</th>\n",
       "      <td>57</td>\n",
       "      <td>0.960000</td>\n",
       "      <td>0.966667</td>\n",
       "    </tr>\n",
       "    <tr>\n",
       "      <th>22</th>\n",
       "      <td>23</td>\n",
       "      <td>0.960000</td>\n",
       "      <td>0.966667</td>\n",
       "    </tr>\n",
       "    <tr>\n",
       "      <th>10</th>\n",
       "      <td>11</td>\n",
       "      <td>0.960000</td>\n",
       "      <td>0.966667</td>\n",
       "    </tr>\n",
       "    <tr>\n",
       "      <th>0</th>\n",
       "      <td>1</td>\n",
       "      <td>0.993333</td>\n",
       "      <td>0.966667</td>\n",
       "    </tr>\n",
       "  </tbody>\n",
       "</table>\n",
       "</div>"
      ],
      "text/plain": [
       "     k  train_score  test_score\n",
       "21  22     0.960000    0.966667\n",
       "56  57     0.960000    0.966667\n",
       "22  23     0.960000    0.966667\n",
       "10  11     0.960000    0.966667\n",
       "0    1     0.993333    0.966667"
      ]
     },
     "execution_count": 54,
     "metadata": {},
     "output_type": "execute_result"
    }
   ],
   "source": [
    "scores_df.sort_values('test_score', ascending=False).head()"
   ]
  },
  {
   "cell_type": "markdown",
   "metadata": {},
   "source": [
    "- **Bonus:** Find a *transformation* of one of more of your feature variables that allows you to create a model that performs better on the test set than your previous model. \n",
    "\n",
    "Possible examples:\n",
    "    - Square a column\n",
    "    - Take the square root of a column\n",
    "    - Take the logarithm of a column\n",
    "    - Multiply two columns together"
   ]
  },
  {
   "cell_type": "code",
   "execution_count": null,
   "metadata": {},
   "outputs": [],
   "source": []
  },
  {
   "cell_type": "markdown",
   "metadata": {},
   "source": [
    "## Bonus\n",
    "\n",
    "`scikit-learn` is the most popular machine learning library in Python, but there are alternative packages that have different strengths. "
   ]
  },
  {
   "cell_type": "markdown",
   "metadata": {},
   "source": [
    "### Example: Using the Statsmodels Formula"
   ]
  },
  {
   "cell_type": "code",
   "execution_count": 24,
   "metadata": {},
   "outputs": [
    {
     "data": {
      "text/html": [
       "<div>\n",
       "<style scoped>\n",
       "    .dataframe tbody tr th:only-of-type {\n",
       "        vertical-align: middle;\n",
       "    }\n",
       "\n",
       "    .dataframe tbody tr th {\n",
       "        vertical-align: top;\n",
       "    }\n",
       "\n",
       "    .dataframe thead th {\n",
       "        text-align: right;\n",
       "    }\n",
       "</style>\n",
       "<table border=\"1\" class=\"dataframe\">\n",
       "  <thead>\n",
       "    <tr style=\"text-align: right;\">\n",
       "      <th></th>\n",
       "      <th>CRIM</th>\n",
       "      <th>ZN</th>\n",
       "      <th>INDUS</th>\n",
       "      <th>CHAS</th>\n",
       "      <th>NOX</th>\n",
       "      <th>RM</th>\n",
       "      <th>AGE</th>\n",
       "      <th>DIS</th>\n",
       "      <th>RAD</th>\n",
       "      <th>TAX</th>\n",
       "      <th>PTRATIO</th>\n",
       "      <th>B</th>\n",
       "      <th>LSTAT</th>\n",
       "      <th>MEDV</th>\n",
       "    </tr>\n",
       "  </thead>\n",
       "  <tbody>\n",
       "    <tr>\n",
       "      <th>0</th>\n",
       "      <td>0.00632</td>\n",
       "      <td>18.0</td>\n",
       "      <td>2.31</td>\n",
       "      <td>0.0</td>\n",
       "      <td>0.538</td>\n",
       "      <td>6.575</td>\n",
       "      <td>65.2</td>\n",
       "      <td>4.0900</td>\n",
       "      <td>1.0</td>\n",
       "      <td>296.0</td>\n",
       "      <td>15.3</td>\n",
       "      <td>396.90</td>\n",
       "      <td>4.98</td>\n",
       "      <td>24.0</td>\n",
       "    </tr>\n",
       "    <tr>\n",
       "      <th>1</th>\n",
       "      <td>0.02731</td>\n",
       "      <td>0.0</td>\n",
       "      <td>7.07</td>\n",
       "      <td>0.0</td>\n",
       "      <td>0.469</td>\n",
       "      <td>6.421</td>\n",
       "      <td>78.9</td>\n",
       "      <td>4.9671</td>\n",
       "      <td>2.0</td>\n",
       "      <td>242.0</td>\n",
       "      <td>17.8</td>\n",
       "      <td>396.90</td>\n",
       "      <td>9.14</td>\n",
       "      <td>21.6</td>\n",
       "    </tr>\n",
       "    <tr>\n",
       "      <th>2</th>\n",
       "      <td>0.02729</td>\n",
       "      <td>0.0</td>\n",
       "      <td>7.07</td>\n",
       "      <td>0.0</td>\n",
       "      <td>0.469</td>\n",
       "      <td>7.185</td>\n",
       "      <td>61.1</td>\n",
       "      <td>4.9671</td>\n",
       "      <td>2.0</td>\n",
       "      <td>242.0</td>\n",
       "      <td>17.8</td>\n",
       "      <td>392.83</td>\n",
       "      <td>4.03</td>\n",
       "      <td>34.7</td>\n",
       "    </tr>\n",
       "    <tr>\n",
       "      <th>3</th>\n",
       "      <td>0.03237</td>\n",
       "      <td>0.0</td>\n",
       "      <td>2.18</td>\n",
       "      <td>0.0</td>\n",
       "      <td>0.458</td>\n",
       "      <td>6.998</td>\n",
       "      <td>45.8</td>\n",
       "      <td>6.0622</td>\n",
       "      <td>3.0</td>\n",
       "      <td>222.0</td>\n",
       "      <td>18.7</td>\n",
       "      <td>394.63</td>\n",
       "      <td>2.94</td>\n",
       "      <td>33.4</td>\n",
       "    </tr>\n",
       "    <tr>\n",
       "      <th>4</th>\n",
       "      <td>0.06905</td>\n",
       "      <td>0.0</td>\n",
       "      <td>2.18</td>\n",
       "      <td>0.0</td>\n",
       "      <td>0.458</td>\n",
       "      <td>7.147</td>\n",
       "      <td>54.2</td>\n",
       "      <td>6.0622</td>\n",
       "      <td>3.0</td>\n",
       "      <td>222.0</td>\n",
       "      <td>18.7</td>\n",
       "      <td>396.90</td>\n",
       "      <td>5.33</td>\n",
       "      <td>36.2</td>\n",
       "    </tr>\n",
       "  </tbody>\n",
       "</table>\n",
       "</div>"
      ],
      "text/plain": [
       "      CRIM    ZN  INDUS  CHAS    NOX     RM   AGE     DIS  RAD    TAX  \\\n",
       "0  0.00632  18.0   2.31   0.0  0.538  6.575  65.2  4.0900  1.0  296.0   \n",
       "1  0.02731   0.0   7.07   0.0  0.469  6.421  78.9  4.9671  2.0  242.0   \n",
       "2  0.02729   0.0   7.07   0.0  0.469  7.185  61.1  4.9671  2.0  242.0   \n",
       "3  0.03237   0.0   2.18   0.0  0.458  6.998  45.8  6.0622  3.0  222.0   \n",
       "4  0.06905   0.0   2.18   0.0  0.458  7.147  54.2  6.0622  3.0  222.0   \n",
       "\n",
       "   PTRATIO       B  LSTAT  MEDV  \n",
       "0     15.3  396.90   4.98  24.0  \n",
       "1     17.8  396.90   9.14  21.6  \n",
       "2     17.8  392.83   4.03  34.7  \n",
       "3     18.7  394.63   2.94  33.4  \n",
       "4     18.7  396.90   5.33  36.2  "
      ]
     },
     "execution_count": 24,
     "metadata": {},
     "output_type": "execute_result"
    }
   ],
   "source": [
    "# First, format our data in a DataFrame\n",
    "\n",
    "df = pd.DataFrame(boston.data, columns=boston.feature_names)\n",
    "df.loc[:, 'MEDV'] = boston.target\n",
    "df.head()"
   ]
  },
  {
   "cell_type": "code",
   "execution_count": 25,
   "metadata": {},
   "outputs": [
    {
     "data": {
      "text/html": [
       "<table class=\"simpletable\">\n",
       "<caption>OLS Regression Results</caption>\n",
       "<tr>\n",
       "  <th>Dep. Variable:</th>          <td>MEDV</td>       <th>  R-squared:         </th> <td>   0.951</td> \n",
       "</tr>\n",
       "<tr>\n",
       "  <th>Model:</th>                   <td>OLS</td>       <th>  Adj. R-squared:    </th> <td>   0.951</td> \n",
       "</tr>\n",
       "<tr>\n",
       "  <th>Method:</th>             <td>Least Squares</td>  <th>  F-statistic:       </th> <td>   1220.</td> \n",
       "</tr>\n",
       "<tr>\n",
       "  <th>Date:</th>             <td>Sun, 19 Aug 2018</td> <th>  Prob (F-statistic):</th> <td>1.59e-321</td>\n",
       "</tr>\n",
       "<tr>\n",
       "  <th>Time:</th>                 <td>15:34:32</td>     <th>  Log-Likelihood:    </th> <td> -1567.7</td> \n",
       "</tr>\n",
       "<tr>\n",
       "  <th>No. Observations:</th>      <td>   506</td>      <th>  AIC:               </th> <td>   3151.</td> \n",
       "</tr>\n",
       "<tr>\n",
       "  <th>Df Residuals:</th>          <td>   498</td>      <th>  BIC:               </th> <td>   3185.</td> \n",
       "</tr>\n",
       "<tr>\n",
       "  <th>Df Model:</th>              <td>     8</td>      <th>                     </th>     <td> </td>    \n",
       "</tr>\n",
       "<tr>\n",
       "  <th>Covariance Type:</th>      <td>nonrobust</td>    <th>                     </th>     <td> </td>    \n",
       "</tr>\n",
       "</table>\n",
       "<table class=\"simpletable\">\n",
       "<tr>\n",
       "    <td></td>       <th>coef</th>     <th>std err</th>      <th>t</th>      <th>P>|t|</th>  <th>[0.025</th>    <th>0.975]</th>  \n",
       "</tr>\n",
       "<tr>\n",
       "  <th>RM</th>    <td>    4.9744</td> <td>    0.224</td> <td>   22.197</td> <td> 0.000</td> <td>    4.534</td> <td>    5.415</td>\n",
       "</tr>\n",
       "<tr>\n",
       "  <th>LSTAT</th> <td>   -0.5615</td> <td>    0.048</td> <td>  -11.817</td> <td> 0.000</td> <td>   -0.655</td> <td>   -0.468</td>\n",
       "</tr>\n",
       "<tr>\n",
       "  <th>RAD</th>   <td>    0.2109</td> <td>    0.070</td> <td>    3.025</td> <td> 0.003</td> <td>    0.074</td> <td>    0.348</td>\n",
       "</tr>\n",
       "<tr>\n",
       "  <th>TAX</th>   <td>   -0.0174</td> <td>    0.004</td> <td>   -4.267</td> <td> 0.000</td> <td>   -0.025</td> <td>   -0.009</td>\n",
       "</tr>\n",
       "<tr>\n",
       "  <th>NOX</th>   <td>    4.3456</td> <td>    3.385</td> <td>    1.284</td> <td> 0.200</td> <td>   -2.305</td> <td>   10.997</td>\n",
       "</tr>\n",
       "<tr>\n",
       "  <th>INDUS</th> <td>    0.0925</td> <td>    0.067</td> <td>    1.385</td> <td> 0.167</td> <td>   -0.039</td> <td>    0.224</td>\n",
       "</tr>\n",
       "<tr>\n",
       "  <th>CRIM</th>  <td>   -0.0866</td> <td>    0.037</td> <td>   -2.362</td> <td> 0.019</td> <td>   -0.159</td> <td>   -0.015</td>\n",
       "</tr>\n",
       "<tr>\n",
       "  <th>ZN</th>    <td>    0.0288</td> <td>    0.013</td> <td>    2.215</td> <td> 0.027</td> <td>    0.003</td> <td>    0.054</td>\n",
       "</tr>\n",
       "</table>\n",
       "<table class=\"simpletable\">\n",
       "<tr>\n",
       "  <th>Omnibus:</th>       <td>192.072</td> <th>  Durbin-Watson:     </th> <td>   0.812</td> \n",
       "</tr>\n",
       "<tr>\n",
       "  <th>Prob(Omnibus):</th> <td> 0.000</td>  <th>  Jarque-Bera (JB):  </th> <td> 831.634</td> \n",
       "</tr>\n",
       "<tr>\n",
       "  <th>Skew:</th>          <td> 1.665</td>  <th>  Prob(JB):          </th> <td>2.59e-181</td>\n",
       "</tr>\n",
       "<tr>\n",
       "  <th>Kurtosis:</th>      <td> 8.325</td>  <th>  Cond. No.          </th> <td>6.24e+03</td> \n",
       "</tr>\n",
       "</table><br/><br/>Warnings:<br/>[1] Standard Errors assume that the covariance matrix of the errors is correctly specified.<br/>[2] The condition number is large, 6.24e+03. This might indicate that there are<br/>strong multicollinearity or other numerical problems."
      ],
      "text/plain": [
       "<class 'statsmodels.iolib.summary.Summary'>\n",
       "\"\"\"\n",
       "                            OLS Regression Results                            \n",
       "==============================================================================\n",
       "Dep. Variable:                   MEDV   R-squared:                       0.951\n",
       "Model:                            OLS   Adj. R-squared:                  0.951\n",
       "Method:                 Least Squares   F-statistic:                     1220.\n",
       "Date:                Sun, 19 Aug 2018   Prob (F-statistic):          1.59e-321\n",
       "Time:                        15:34:32   Log-Likelihood:                -1567.7\n",
       "No. Observations:                 506   AIC:                             3151.\n",
       "Df Residuals:                     498   BIC:                             3185.\n",
       "Df Model:                           8                                         \n",
       "Covariance Type:            nonrobust                                         \n",
       "==============================================================================\n",
       "                 coef    std err          t      P>|t|      [0.025      0.975]\n",
       "------------------------------------------------------------------------------\n",
       "RM             4.9744      0.224     22.197      0.000       4.534       5.415\n",
       "LSTAT         -0.5615      0.048    -11.817      0.000      -0.655      -0.468\n",
       "RAD            0.2109      0.070      3.025      0.003       0.074       0.348\n",
       "TAX           -0.0174      0.004     -4.267      0.000      -0.025      -0.009\n",
       "NOX            4.3456      3.385      1.284      0.200      -2.305      10.997\n",
       "INDUS          0.0925      0.067      1.385      0.167      -0.039       0.224\n",
       "CRIM          -0.0866      0.037     -2.362      0.019      -0.159      -0.015\n",
       "ZN             0.0288      0.013      2.215      0.027       0.003       0.054\n",
       "==============================================================================\n",
       "Omnibus:                      192.072   Durbin-Watson:                   0.812\n",
       "Prob(Omnibus):                  0.000   Jarque-Bera (JB):              831.634\n",
       "Skew:                           1.665   Prob(JB):                    2.59e-181\n",
       "Kurtosis:                       8.325   Cond. No.                     6.24e+03\n",
       "==============================================================================\n",
       "\n",
       "Warnings:\n",
       "[1] Standard Errors assume that the covariance matrix of the errors is correctly specified.\n",
       "[2] The condition number is large, 6.24e+03. This might indicate that there are\n",
       "strong multicollinearity or other numerical problems.\n",
       "\"\"\""
      ]
     },
     "execution_count": 25,
     "metadata": {},
     "output_type": "execute_result"
    }
   ],
   "source": [
    "# Set up our new statsmodel.formula handling model\n",
    "import statsmodels.formula.api as smf\n",
    "\n",
    "# You can easily swap these out to test multiple versions/different formulas\n",
    "formulas = {\n",
    "    \"case1\": \"MEDV ~ RM + LSTAT + RAD + TAX + NOX + INDUS + CRIM + ZN - 1\", # - 1 = remove intercept\n",
    "    \"case2\": \"MEDV ~ NOX + RM\",\n",
    "    \"case3\": \"MEDV ~ RAD + TAX\"\n",
    "}\n",
    "\n",
    "model = smf.ols(formula=formulas['case1'], data=df)\n",
    "result = model.fit()\n",
    "\n",
    "result.summary()"
   ]
  },
  {
   "cell_type": "markdown",
   "metadata": {},
   "source": [
    "### Bonus Challenge #1:\n",
    "\n",
    "Can you optimize your R2, selecting the best features and using either test-train split or k-folds?"
   ]
  },
  {
   "cell_type": "code",
   "execution_count": null,
   "metadata": {},
   "outputs": [],
   "source": []
  },
  {
   "cell_type": "markdown",
   "metadata": {},
   "source": [
    "### Bonus Challenge #2:\n",
    "\n",
    "Given a combination of predictors, can you find another response variable that can be accurately predicted through the exploration of different predictors in this data set?\n",
    "\n",
    "_Tip: Check out pairplots, coefficients, and Pearson scores._"
   ]
  },
  {
   "cell_type": "code",
   "execution_count": 26,
   "metadata": {},
   "outputs": [
    {
     "data": {
      "image/png": "[encoded data removed]",
      "text/plain": [
       "<Figure size 360x360 with 6 Axes>"
      ]
     },
     "metadata": {},
     "output_type": "display_data"
    }
   ],
   "source": [
    "# Check out variable relations\n",
    "import seaborn as sns\n",
    "\n",
    "sns.pairplot(X);"
   ]
  },
  {
   "cell_type": "code",
   "execution_count": 27,
   "metadata": {},
   "outputs": [],
   "source": [
    "# Check out Pearson scores\n"
   ]
  },
  {
   "cell_type": "markdown",
   "metadata": {},
   "source": [
    "### Demo: Patsy"
   ]
  },
  {
   "cell_type": "code",
   "execution_count": 28,
   "metadata": {},
   "outputs": [],
   "source": [
    "import patsy\n",
    "\n",
    "# Add response to the core DataFrame\n",
    "df.loc[:, 'MEDV'] = y"
   ]
  },
  {
   "cell_type": "code",
   "execution_count": 29,
   "metadata": {},
   "outputs": [
    {
     "name": "stderr",
     "output_type": "stream",
     "text": [
      "/home/siddharth/anaconda3/lib/python3.6/site-packages/sklearn/model_selection/_split.py:2026: FutureWarning: From version 0.21, test_size will always complement train_size unless both are specified.\n",
      "  FutureWarning)\n"
     ]
    }
   ],
   "source": [
    "from sklearn.model_selection import train_test_split #If you didn't import it earlier, do so now\n",
    "\n",
    "# Easily change your variable predictors without reslicing your DataFrame\n",
    "y, X = patsy.dmatrices(\"MEDV ~ AGE + RM\", data=df, return_type=\"dataframe\")\n",
    "\n",
    "X_train, X_test, y_train, y_test = train_test_split(X, y, train_size=.7)\n"
   ]
  },
  {
   "cell_type": "code",
   "execution_count": 30,
   "metadata": {},
   "outputs": [
    {
     "name": "stdout",
     "output_type": "stream",
     "text": [
      "R^2 Score: 0.10124414042083829\n"
     ]
    }
   ],
   "source": [
    "from sklearn import metrics\n",
    "from sklearn.linear_model import LinearRegression\n",
    "\n",
    "# Rerun your model, iteratively changing your variables and train_size from the previous cell\n",
    "\n",
    "lm = LinearRegression()\n",
    "model = lm.fit(X_train, y_train)\n",
    "\n",
    "predictions = model.predict(X_test)\n",
    "print(\"R^2 Score: {}\".format(metrics.r2_score(y_test, predictions)))"
   ]
  }
 ],
 "metadata": {
  "anaconda-cloud": {},
  "kernelspec": {
   "display_name": "Python 3",
   "language": "python",
   "name": "python3"
  },
  "language_info": {
   "codemirror_mode": {
    "name": "ipython",
    "version": 3
   },
   "file_extension": ".py",
   "mimetype": "text/x-python",
   "name": "python",
   "nbconvert_exporter": "python",
   "pygments_lexer": "ipython3",
   "version": "3.6.5"
  }
 },
 "nbformat": 4,
 "nbformat_minor": 2
}
