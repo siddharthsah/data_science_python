{
 "cells": [
  {
   "cell_type": "markdown",
   "metadata": {},
   "source": [
    "# Challenge 1: Largest Palindrome\n",
    "\n",
    "A palindromic number reads the same both ways. For example, 1234321 is a palindrome. The largest palindrome made from the product of two two-digit numbers is 9009 = 91 × 99. Find the largest palindrome made from the product of two three-digit numbers. Afterward, write a brief explanation walking through your code's logic in markdown.\n"
   ]
  },
  {
   "cell_type": "markdown",
   "metadata": {},
   "source": [
    "The code below is defines a function which results true if the number is palindrome. Then for the highest 3 digits number, we multiple 999 with all 3 digits from 999 to 100 and reiterating the same thing with 998 and so on. We checked the first number to be palindrome and assigning it to max_prod variable for comparision if in case we encounter a larger number than the previous one. "
   ]
  },
  {
   "cell_type": "code",
   "execution_count": 29,
   "metadata": {},
   "outputs": [
    {
     "name": "stdout",
     "output_type": "stream",
     "text": [
      "The largest palindrome is  906609 and the two numbers are  993 and 913\n"
     ]
    }
   ],
   "source": [
    "# we define a function palindrome which test if the reverse order of a number is equal to original number\n",
    "def palindrome(n):\n",
    "    return int(str(n)[::-1]) == n   #converted n to string and reversed it with slicing operator [::-1] to compare \n",
    "\n",
    "\n",
    "max_prod = 0\n",
    "number_a = 0\n",
    "number_b = 0\n",
    "for a in range(999, 99, -1):  #for the largest 3 digit, we move from 999 towards 100\n",
    "    for b in range(a, 99, -1): # it ranges from number a moving towards 99 making sure we have all multiplcation.\n",
    "        multiplication = a * b\n",
    "        if palindrome(multiplication) and multiplication > max_prod:\n",
    "            max_prod = multiplication\n",
    "            number_a = a\n",
    "            number_b = b\n",
    "            \n",
    "print (\"The largest palindrome is \", max_prod, \"and the two numbers are \", number_a, \"and\", number_b)\n"
   ]
  },
  {
   "cell_type": "markdown",
   "metadata": {},
   "source": [
    "# Challenge 2: Summation of Primes\n",
    "\n",
    "The sum of the primes below 10 is 2 + 3 + 5 + 7 = 17. Find the sum of all the primes below 2,000. Afterward, write a brief explanation walking through your code's logic in markdown.\n"
   ]
  },
  {
   "cell_type": "markdown",
   "metadata": {},
   "source": [
    "The code below defines a fucntion which classify if a number is a prime or not. For a number to be prime, it should be divisble by 1 or itself i.e. just two factor. Beside 2 all prime numbers are odd numbers. So the function iterate till squareroot of number to use modulus to find if the number is perfectly divisble or not. If it is divisble by any other number than itself, it is not a prime number."
   ]
  },
  {
   "cell_type": "code",
   "execution_count": 51,
   "metadata": {},
   "outputs": [
    {
     "name": "stdout",
     "output_type": "stream",
     "text": [
      "The sum of all prime numbers is  277050\n"
     ]
    }
   ],
   "source": [
    "# we define a function which test out if the number is a prime number or not.\n",
    "def prime(n):\n",
    "    if n==2 or n==3: # prime numbers are 2 and 3 \n",
    "        return True\n",
    "    if n%2==0 or n<2:   # prime numbers cannot be divisle by 2 and below than 2.\n",
    "        return False   \n",
    "    for i in range(3,int(n**0.5)+1,2): # prime number is divisble by 1 and itself, we iterate till squareroot of number        \n",
    "        if n % i == 0:\n",
    "            return False\n",
    "    return True\n",
    "\n",
    "sum = 0\n",
    "for i in range(2, 2000):  # since the ask is to sum all prime numbers below 2000, we iterate from 2 to 2000.\n",
    "    if prime(i):  # if the number is prime, it add it to variable sum.\n",
    "        sum += i\n",
    "print (\"The sum of all prime numbers is \", sum)\n",
    "\n"
   ]
  },
  {
   "cell_type": "markdown",
   "metadata": {},
   "source": [
    "# Challenge 3: Multiples of 3 and 5\n",
    "\n",
    "If we list all of the natural numbers below 10 that are multiples of 3 or 5, we get 3, 5, 6, and 9. The sum of these multiples is 23. Find the sum of all the multiples of 3 or 5 below 1,000. Afterward, write a brief explanation walking through your code's logic in markdown.\n"
   ]
  },
  {
   "cell_type": "markdown",
   "metadata": {},
   "source": [
    "We defined 2 functions to create a list fo multiple of 3 to put in list_3 and multiple of 5 to put in list_5. We iterated from 1 to the highest multiple of 3 and 5 respectively to the number defined i.e. 1000. We added it ina list called total and iterated over each item to add and print sum."
   ]
  },
  {
   "cell_type": "code",
   "execution_count": 55,
   "metadata": {},
   "outputs": [
    {
     "name": "stdout",
     "output_type": "stream",
     "text": [
      "The sum of all the multiple of 5 and 3 is  267333\n"
     ]
    }
   ],
   "source": [
    "def multiple_3(n): # this fuction defines multiple of 3 >= n the number defined\n",
    "    list_3 = []\n",
    "    for i in range(1, int(n/3)+1): # iterating from 1 to highest integer of mulitple of 3 below than n.\n",
    "        list_3.append(3*i)  # adding in the list \n",
    "    return list_3\n",
    "    \n",
    "def multiple_5(n): # this fuction defines multiple of 5 >= n the number defined\n",
    "    list_5 = []\n",
    "    for i in range(1, int(n/5)+1): # iterating from 1 to highest integer of mulitple of 5 below than n.\n",
    "        list_5.append(5*i)  # adding in the list \n",
    "    return list_5\n",
    "\n",
    "total = multiple_5(1000) + multiple_3(1000) # adding two list to make one\n",
    "# print (total)\n",
    "\n",
    "sum = 0\n",
    "for i in total: # iterating through the list and adding it in variable sum.\n",
    "    sum += i\n",
    "\n",
    "print (\"The sum of all the multiple of 5 and 3 is \",sum)"
   ]
  },
  {
   "cell_type": "markdown",
   "metadata": {},
   "source": [
    "# Challenge 4: String Compressor\n",
    "\n",
    "Implement a method to perform basic string compression using the counts of repeated characters. (This is called run-length encoding.) For example, the string \"aabcccccaaa\" would become a2b1c5a3. If the “compressed” string would not become smaller than the original string, your method should return the original string. You can assume the string has only uppercase and lowercase letters (a–z). Specify whether your solution is case sensitive or case insensitive and what you would need to change to make it the other. Afterward, write a brief explanation walking through your code's logic in markdown.\n"
   ]
  },
  {
   "cell_type": "markdown",
   "metadata": {},
   "source": [
    "The code below is assuming that characters are case sensitive. If we want ot make it case insensitive, we can either convert the text in uppercase i.e. upper or lowercase i.e. lower before applying the compress function. As said int he question, another assumption is the string is made of just uppercase and lowercase characters from a-z. \n",
    "\n",
    "We start the function with creating a result string where we will add the first character. We will have a count variable set at 1. We iterate over the characters of the string leaving the last one, as we are coparing the character to the next one, we will throw error if we iterate over all the chracters. we compare each charcter to the next one and if it is same, we increase count and if it is different, we check the count for greater than 1, and add it to the string by converting it from integer to string. if the count is 1, we just add the charcter. The last character is added at the last to the result. "
   ]
  },
  {
   "cell_type": "code",
   "execution_count": 61,
   "metadata": {},
   "outputs": [
    {
     "data": {
      "text/plain": [
       "'s2if2harthb3h2a2'"
      ]
     },
     "execution_count": 61,
     "metadata": {},
     "output_type": "execute_result"
    }
   ],
   "source": [
    "#upper = string.upper()\n",
    "#lower = string.lower()\n",
    "def compress(string):\n",
    "\n",
    "    result = \"\"\n",
    "    count = 1\n",
    "    result += string[0]  #Add the first character\n",
    "\n",
    "    for i in range(len(string)-1):  #Iterate through loop, skipping last one as we are comparing with the next character\n",
    "        if(string[i] == string[i+1]):  # increase the count if the character matches the next one while increaing index\n",
    "            count+=1\n",
    "        else: \n",
    "            if(count > 1):   # now if the character is different, check your count\n",
    "                #Ignore if no repeats\n",
    "                result += str(count)  #if count is more than 1, convert the count into string and add it to result\n",
    "            result += string[i+1]  #if there is no match to next index, add the next character to result \n",
    "            count = 1  # set the count to 1\n",
    "    \n",
    "    if(count > 1): #print last one\n",
    "        result += str(count) #if the last character is repeating we need to add count to the result string\n",
    "    return result\n",
    "\n",
    "\n",
    "compress(\"ssiffharthbbbhhaa\")\n",
    "        \n",
    "        \n",
    "    "
   ]
  },
  {
   "cell_type": "markdown",
   "metadata": {},
   "source": [
    "# Challenge 5: FizzBuzz\n",
    "\n",
    "Write a program that prints all of the numbers from 1 to 100. For multiples of 3, instead of the number, print \"Fizz;\" for multiples of 5, print \"Buzz.\" For numbers that are multiples of both 3 and 5, print \"FizzBuzz.\" Afterward, write a brief explanation walking through your code's logic in markdown.\n"
   ]
  },
  {
   "cell_type": "markdown",
   "metadata": {},
   "source": [
    "This function FizzBuzz will print Fizz for the multiple of 3 and buzz for the multiple of 5. If the number is multiple of 3 and 5, it prints FizzBuzz. If it is neither multiple of 3 or 5, it prints the number. We assume n is a postive number greater than 0. "
   ]
  },
  {
   "cell_type": "code",
   "execution_count": 65,
   "metadata": {},
   "outputs": [
    {
     "name": "stdout",
     "output_type": "stream",
     "text": [
      "1\n",
      "2\n",
      "Fizz\n",
      "4\n",
      "Buzz\n",
      "Fizz\n",
      "7\n",
      "8\n",
      "Fizz\n",
      "Buzz\n",
      "11\n",
      "Fizz\n",
      "13\n",
      "14\n",
      "FizzBuzz\n"
     ]
    }
   ],
   "source": [
    "def FizzBuzz(n):\n",
    "    count = 0 \n",
    "\n",
    "    while (count < n): # Implement loop to evaluate and increment counter variable\n",
    "        \n",
    "        count += 1 # Increment count\n",
    "\n",
    "        if count % 3 == 0 and count % 5 == 0: # if the number is multiple of 3 and 5\n",
    "            print (\"FizzBuzz\")\n",
    "        elif count % 3 == 0: # if number is multiple of 3\n",
    "            print (\"Fizz\")\n",
    "        elif count % 5 == 0: # if number is multiple of 5\n",
    "            print (\"Buzz\")\n",
    "        else:\n",
    "            print (count)  # if the number is  not a multiple of 3 and 5, print number\n",
    "            \n",
    "FizzBuzz(100)"
   ]
  },
  {
   "cell_type": "code",
   "execution_count": null,
   "metadata": {},
   "outputs": [],
   "source": []
  }
 ],
 "metadata": {
  "kernelspec": {
   "display_name": "Python 3",
   "language": "python",
   "name": "python3"
  },
  "language_info": {
   "codemirror_mode": {
    "name": "ipython",
    "version": 3
   },
   "file_extension": ".py",
   "mimetype": "text/x-python",
   "name": "python",
   "nbconvert_exporter": "python",
   "pygments_lexer": "ipython3",
   "version": "3.6.5"
  }
 },
 "nbformat": 4,
 "nbformat_minor": 2
}
